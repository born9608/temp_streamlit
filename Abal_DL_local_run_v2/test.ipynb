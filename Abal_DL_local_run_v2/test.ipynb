{
 "cells": [
  {
   "cell_type": "code",
   "execution_count": 20,
   "metadata": {},
   "outputs": [],
   "source": [
    "import pandas as pd\n",
    "\n",
    "\n",
    "from sklearn.preprocessing import StandardScaler, MinMaxScaler, Normalizer, RobustScaler, MaxAbsScaler\n",
    "from sklearn.model_selection import train_test_split\n",
    "\n",
    "from imblearn.over_sampling import ADASYN\n",
    "\n",
    "import tensorflow as tf\n",
    "from tensorflow import keras\n",
    "\n",
    "from tensorflow.keras.regularizers import L1L2\n",
    "from load_data import load_data\n",
    "from timeit import default_timer as timer\n",
    "\n",
    "import json\n",
    "import joblib\n",
    "\n",
    "# 사용자 지정 함수 불러오기\n",
    "from eval import get_Accuracy_tf, total_score"
   ]
  },
  {
   "cell_type": "code",
   "execution_count": 21,
   "metadata": {},
   "outputs": [],
   "source": [
    "X_train, X_val, X_test, y_train, y_val, y_test, scaler = load_data(scaler=0)"
   ]
  },
  {
   "cell_type": "code",
   "execution_count": 22,
   "metadata": {},
   "outputs": [
    {
     "data": {
      "text/plain": [
       "((2672, 10), (669, 10), (836, 10), (2672,), (669,), (836,))"
      ]
     },
     "execution_count": 22,
     "metadata": {},
     "output_type": "execute_result"
    }
   ],
   "source": [
    "X_train.shape, X_val.shape, X_test.shape, y_train.shape, y_val.shape, y_test.shape"
   ]
  },
  {
   "cell_type": "code",
   "execution_count": 23,
   "metadata": {},
   "outputs": [],
   "source": [
    "#scaler = joblib.load('MinMaxScaler.joblib')\n",
    "\n",
    "model = keras.models.load_model('model_layers', custom_objects={\"get_Accuracy_tf\": get_Accuracy_tf })"
   ]
  },
  {
   "cell_type": "code",
   "execution_count": 24,
   "metadata": {},
   "outputs": [],
   "source": [
    "#keras.utils.plot_model(model, show_shapes=True)"
   ]
  },
  {
   "cell_type": "code",
   "execution_count": 25,
   "metadata": {},
   "outputs": [
    {
     "name": "stdout",
     "output_type": "stream",
     "text": [
      "27/27 [==============================] - 0s 798us/step - loss: 5.4455 - get_Accuracy_tf: 0.8594\n"
     ]
    }
   ],
   "source": [
    "results = model.evaluate(X_test, y_test)"
   ]
  },
  {
   "cell_type": "code",
   "execution_count": 26,
   "metadata": {},
   "outputs": [
    {
     "name": "stdout",
     "output_type": "stream",
     "text": [
      "ANN 훈련성능\n",
      "84/84 [==============================] - 0s 491us/step\n",
      "r2_score                 : 0.5640630658910976\n",
      "Mean Absolute Error      : 1.4407517\n",
      "Mean Squared Error       : 4.5369563\n",
      "Root Mean Squared Error  : 2.1300132\n",
      "Accuracy                 : tf.Tensor(0.8653009, shape=(), dtype=float32)\n",
      "----------------------------------------------------------------------------------------------------\n",
      "ANN 평가성능\n",
      "27/27 [==============================] - 0s 545us/step\n",
      "r2_score                 : 0.5217997593386023\n",
      "Mean Absolute Error      : 1.529143\n",
      "Mean Squared Error       : 5.1766176\n",
      "Root Mean Squared Error  : 2.2752182\n",
      "Accuracy                 : tf.Tensor(0.857428, shape=(), dtype=float32)\n"
     ]
    }
   ],
   "source": [
    "total_score(loaded_model, X_train, X_test, y_train, y_test)"
   ]
  }
 ],
 "metadata": {
  "kernelspec": {
   "display_name": "tp1",
   "language": "python",
   "name": "python3"
  },
  "language_info": {
   "codemirror_mode": {
    "name": "ipython",
    "version": 3
   },
   "file_extension": ".py",
   "mimetype": "text/x-python",
   "name": "python",
   "nbconvert_exporter": "python",
   "pygments_lexer": "ipython3",
   "version": "3.11.4"
  },
  "orig_nbformat": 4
 },
 "nbformat": 4,
 "nbformat_minor": 2
}
