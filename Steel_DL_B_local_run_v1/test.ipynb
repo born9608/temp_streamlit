{
 "cells": [
  {
   "cell_type": "code",
   "execution_count": 4,
   "metadata": {},
   "outputs": [],
   "source": [
    "from load_data import load_data\n",
    "from tensorflow import keras\n"
   ]
  },
  {
   "cell_type": "code",
   "execution_count": 3,
   "metadata": {},
   "outputs": [
    {
     "data": {
      "text/plain": [
       "((1580, 20), (396, 20), (494, 20), (1580,), (396,), (494,), StandardScaler())"
      ]
     },
     "execution_count": 3,
     "metadata": {},
     "output_type": "execute_result"
    }
   ],
   "source": [
    "X_train, X_val, X_test, y_train, y_val, y_test, scaler = load_data(scaler=1, upsampling=1)\n",
    "X_train.shape, X_val.shape, X_test.shape, y_train.shape, y_val.shape, y_test.shape, scaler"
   ]
  },
  {
   "cell_type": "code",
   "execution_count": 6,
   "metadata": {},
   "outputs": [],
   "source": [
    "model = keras.models.load_model('model_layers')"
   ]
  },
  {
   "cell_type": "code",
   "execution_count": 7,
   "metadata": {},
   "outputs": [
    {
     "name": "stdout",
     "output_type": "stream",
     "text": [
      "16/16 [==============================] - 0s 722us/step - loss: 2.3738 - accuracy: 0.8441\n"
     ]
    }
   ],
   "source": [
    "results = model.evaluate(X_test, y_test)"
   ]
  },
  {
   "cell_type": "code",
   "execution_count": 9,
   "metadata": {},
   "outputs": [
    {
     "ename": "NameError",
     "evalue": "name 'Pixels_Areas' is not defined",
     "output_type": "error",
     "traceback": [
      "\u001b[0;31m---------------------------------------------------------------------------\u001b[0m",
      "\u001b[0;31mNameError\u001b[0m                                 Traceback (most recent call last)",
      "Cell \u001b[0;32mIn[9], line 1\u001b[0m\n\u001b[0;32m----> 1\u001b[0m input_list \u001b[39m=\u001b[39m [Pixels_Areas, X_Perimeter, Y_Perimeter, Sum_of_Luminosity, Minimum_of_Luminosity,\n\u001b[1;32m      2\u001b[0m               Maximum_of_Luminosity, Length_of_Conveyer, TypeOfSteel, Steel_Plate_Thickness,\n\u001b[1;32m      3\u001b[0m               Edges_Index, Empty_Index, Square_Index, Outside_X_Index, Edges_X_Index, Edges_Y_Index,\n\u001b[1;32m      4\u001b[0m               LogOfAreas, Orientation_Index, Luminosity_Index, SigmoidOfAreas, Area]\n\u001b[1;32m      6\u001b[0m \u001b[39mlen\u001b[39m(input_list)\n",
      "\u001b[0;31mNameError\u001b[0m: name 'Pixels_Areas' is not defined"
     ]
    }
   ],
   "source": [
    "input_list = [Pixels_Areas, X_Perimeter, Y_Perimeter, Sum_of_Luminosity, Minimum_of_Luminosity,\n",
    "              Maximum_of_Luminosity, Length_of_Conveyer, TypeOfSteel, Steel_Plate_Thickness,\n",
    "              Edges_Index, Empty_Index, Square_Index, Outside_X_Index, Edges_X_Index, Edges_Y_Index,\n",
    "              LogOfAreas, Orientation_Index, Luminosity_Index, SigmoidOfAreas, Area]\n",
    "\n",
    "len(input_list)"
   ]
  }
 ],
 "metadata": {
  "kernelspec": {
   "display_name": "tp1",
   "language": "python",
   "name": "python3"
  },
  "language_info": {
   "codemirror_mode": {
    "name": "ipython",
    "version": 3
   },
   "file_extension": ".py",
   "mimetype": "text/x-python",
   "name": "python",
   "nbconvert_exporter": "python",
   "pygments_lexer": "ipython3",
   "version": "3.11.4"
  },
  "orig_nbformat": 4
 },
 "nbformat": 4,
 "nbformat_minor": 2
}
