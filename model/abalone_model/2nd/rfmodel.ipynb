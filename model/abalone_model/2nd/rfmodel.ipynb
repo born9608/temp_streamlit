{
 "cells": [
  {
   "cell_type": "code",
   "execution_count": 3,
   "metadata": {},
   "outputs": [],
   "source": [
    "# 라이브러리 불러오기\n",
    "import numpy as np\n",
    "import pandas as pd\n",
    "import seaborn as sns\n",
    "import matplotlib.pyplot as plt\n",
    "\n",
    "from sklearn.model_selection import train_test_split\n",
    "from sklearn import metrics\n",
    "from sklearn.linear_model import LinearRegression\n",
    "from sklearn.preprocessing import StandardScaler, MinMaxScaler, Normalizer, RobustScaler, MaxAbsScaler\n",
    "from sklearn.ensemble import RandomForestRegressor, GradientBoostingRegressor\n",
    "from sklearn.decomposition import PCA\n",
    "\n",
    "# 사용자 정의함수 불러오기\n",
    "from dataloader import load_prepro_data, target_split\n",
    "from eval import total_score\n",
    "from model import linearregressor, randomforestregressor, grandientboostregressor, catboostregressor, lgbmregressor, xgboostregressor"
   ]
  },
  {
   "cell_type": "code",
   "execution_count": 4,
   "metadata": {},
   "outputs": [],
   "source": [
    "df = load_prepro_data()"
   ]
  },
  {
   "cell_type": "code",
   "execution_count": 5,
   "metadata": {},
   "outputs": [
    {
     "name": "stdout",
     "output_type": "stream",
     "text": [
      "(3341, 10) (836, 10) (3341,) (836,)\n"
     ]
    }
   ],
   "source": [
    "X_train, X_test, y_train, y_test, rfmodel = randomforestregressor(df, 0.8, Scaler = MinMaxScaler())"
   ]
  },
  {
   "cell_type": "code",
   "execution_count": 6,
   "metadata": {},
   "outputs": [
    {
     "name": "stdout",
     "output_type": "stream",
     "text": [
      "훈련성능\n",
      "r2_score                 : 0.8350457521543523\n",
      "Mean Absolute Error      : 0.9721380350521147\n",
      "Mean Squared Error       : 1.6945317245532396\n",
      "Root Mean Squared Error  : 1.3017418041045004\n",
      "Accuracy                 : 0.9024547551062736\n",
      "----------------------------------------------------------------------------------------------------\n",
      "평가성능\n",
      "r2_score                 : 0.5758595819037298\n",
      "Mean Absolute Error      : 1.5089133460429294\n",
      "Mean Squared Error       : 4.606296883640574\n",
      "Root Mean Squared Error  : 2.146228525493167\n",
      "Accuracy                 : 0.849275848917156\n"
     ]
    }
   ],
   "source": [
    "total_score(rfmodel, X_train, X_test, y_train, y_test)"
   ]
  }
 ],
 "metadata": {
  "kernelspec": {
   "display_name": "Abal",
   "language": "python",
   "name": "python3"
  },
  "language_info": {
   "codemirror_mode": {
    "name": "ipython",
    "version": 3
   },
   "file_extension": ".py",
   "mimetype": "text/x-python",
   "name": "python",
   "nbconvert_exporter": "python",
   "pygments_lexer": "ipython3",
   "version": "3.8.17"
  },
  "orig_nbformat": 4
 },
 "nbformat": 4,
 "nbformat_minor": 2
}
